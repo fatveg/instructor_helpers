{
 "cells": [
  {
   "cell_type": "markdown",
   "metadata": {},
   "source": [
    "# Example for use of Instructor Helpers"
   ]
  },
  {
   "cell_type": "code",
   "execution_count": null,
   "metadata": {},
   "outputs": [],
   "source": [
    "from pydantic import BaseModel, Field\n",
    "from typing import List\n",
    "from instructor_helpers import simple_completion"
   ]
  },
  {
   "cell_type": "markdown",
   "metadata": {},
   "source": [
    "### Simple single string completion"
   ]
  },
  {
   "cell_type": "code",
   "execution_count": null,
   "metadata": {},
   "outputs": [],
   "source": [
    "# Specify model to use\n",
    "# Note this will use an OpenAI model - assumes that either OPENAI_KEY or OPENAI_API_KEY is set in environment or creds.py (with OPENAI_KEY) is present\n",
    "# Note that if a model is specified that does not begin with \"gpt-\", it will be assumed to be a local Ollama model\n",
    "model = \"gpt-4o-mini\""
   ]
  },
  {
   "cell_type": "code",
   "execution_count": null,
   "metadata": {},
   "outputs": [],
   "source": [
    "# Generate a simple completion\n",
    "simple_completion(\"If Pluto is no longer a planet, is he still a dog?\", model=model)"
   ]
  },
  {
   "cell_type": "markdown",
   "metadata": {},
   "source": [
    "### Use Pydantic Model for Instructor results"
   ]
  },
  {
   "cell_type": "code",
   "execution_count": null,
   "metadata": {},
   "outputs": [],
   "source": [
    "# First Create a Pydantic Class for the results\n",
    "class Result(BaseModel):\n",
    "    subject: str = Field(..., description=\"The subject of the statement given\")\n",
    "    facts: List[str] = Field(\n",
    "        ..., description=\"A list of facts from the statement given\"\n",
    "    )"
   ]
  },
  {
   "cell_type": "code",
   "execution_count": null,
   "metadata": {},
   "outputs": [],
   "source": [
    "# Get completion\n",
    "prompt = \"\"\"The name \"Pluto\" refers to both the celestial body that was reclassified from a planet to a \"dwarf planet\" and the beloved Disney character who is Mickey Mouse\\'s pet dog.\n",
    "The reclassification of Pluto as a celestial body does not affect the existence or status of the character. So, in the context of Disney, Pluto remains a dog!\"\"\"\n",
    "\n",
    "result = simple_completion(prompt, model=model, responseclass=Result)\n",
    "\n",
    "result.__dict__"
   ]
  },
  {
   "cell_type": "code",
   "execution_count": null,
   "metadata": {},
   "outputs": [],
   "source": []
  }
 ],
 "metadata": {
  "kernelspec": {
   "display_name": ".venv",
   "language": "python",
   "name": "python3"
  },
  "language_info": {
   "codemirror_mode": {
    "name": "ipython",
    "version": 3
   },
   "file_extension": ".py",
   "mimetype": "text/x-python",
   "name": "python",
   "nbconvert_exporter": "python",
   "pygments_lexer": "ipython3",
   "version": "3.12.4"
  }
 },
 "nbformat": 4,
 "nbformat_minor": 2
}
